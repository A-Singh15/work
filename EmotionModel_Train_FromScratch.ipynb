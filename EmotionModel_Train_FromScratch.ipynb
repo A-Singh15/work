{
 "cells": [
  {
   "cell_type": "markdown",
   "id": "db8bea3e",
   "metadata": {},
   "source": [
    "# 🎯 Emotion Detection Model Training (Custom CNN)\n",
    "This notebook trains your own CNN model on a labeled emotion dataset stored in `dataset/train` and `dataset/test`. It saves the trained model and includes a preview + prediction block."
   ]
  },
  {
   "cell_type": "code",
   "execution_count": 1,
   "id": "c8ee38c6",
   "metadata": {},
   "outputs": [],
   "source": [
    "\n",
    "import os\n",
    "import cv2\n",
    "import numpy as np\n",
    "import matplotlib.pyplot as plt\n",
    "from sklearn.preprocessing import LabelEncoder\n",
    "from sklearn.metrics import classification_report\n",
    "from tensorflow.keras.utils import to_categorical\n",
    "from tensorflow.keras.models import Sequential, model_from_json\n",
    "from tensorflow.keras.layers import Conv2D, MaxPooling2D, Flatten, Dense, Dropout\n",
    "from tensorflow.keras.preprocessing.image import ImageDataGenerator\n"
   ]
  },
  {
   "cell_type": "code",
   "execution_count": 2,
   "id": "5a1c58fb",
   "metadata": {},
   "outputs": [],
   "source": [
    "\n",
    "# === CONFIG ===\n",
    "image_size = (48, 48)\n",
    "batch_size = 32\n",
    "epochs = 10\n",
    "train_dir = \"dataset/train\"\n",
    "test_dir = \"dataset/test\"\n"
   ]
  },
  {
   "cell_type": "code",
   "execution_count": 3,
   "id": "d1971704",
   "metadata": {},
   "outputs": [
    {
     "name": "stdout",
     "output_type": "stream",
     "text": [
      "Found 28709 images belonging to 7 classes.\n",
      "Found 7178 images belonging to 7 classes.\n"
     ]
    }
   ],
   "source": [
    "\n",
    "# Load images using ImageDataGenerator\n",
    "train_datagen = ImageDataGenerator(rescale=1./255)\n",
    "test_datagen = ImageDataGenerator(rescale=1./255)\n",
    "\n",
    "train_generator = train_datagen.flow_from_directory(\n",
    "    train_dir,\n",
    "    target_size=image_size,\n",
    "    color_mode=\"grayscale\",\n",
    "    batch_size=batch_size,\n",
    "    class_mode=\"categorical\"\n",
    ")\n",
    "\n",
    "test_generator = test_datagen.flow_from_directory(\n",
    "    test_dir,\n",
    "    target_size=image_size,\n",
    "    color_mode=\"grayscale\",\n",
    "    batch_size=batch_size,\n",
    "    class_mode=\"categorical\"\n",
    ")\n",
    "\n",
    "num_classes = len(train_generator.class_indices)\n",
    "class_labels = list(train_generator.class_indices.keys())\n"
   ]
  },
  {
   "cell_type": "code",
   "execution_count": 4,
   "id": "ef224397",
   "metadata": {},
   "outputs": [
    {
     "name": "stdout",
     "output_type": "stream",
     "text": [
      "Model: \"sequential\"\n",
      "_________________________________________________________________\n",
      " Layer (type)                Output Shape              Param #   \n",
      "=================================================================\n",
      " conv2d (Conv2D)             (None, 46, 46, 32)        320       \n",
      "                                                                 \n",
      " max_pooling2d (MaxPooling2  (None, 23, 23, 32)        0         \n",
      " D)                                                              \n",
      "                                                                 \n",
      " conv2d_1 (Conv2D)           (None, 21, 21, 64)        18496     \n",
      "                                                                 \n",
      " max_pooling2d_1 (MaxPoolin  (None, 10, 10, 64)        0         \n",
      " g2D)                                                            \n",
      "                                                                 \n",
      " conv2d_2 (Conv2D)           (None, 8, 8, 128)         73856     \n",
      "                                                                 \n",
      " max_pooling2d_2 (MaxPoolin  (None, 4, 4, 128)         0         \n",
      " g2D)                                                            \n",
      "                                                                 \n",
      " flatten (Flatten)           (None, 2048)              0         \n",
      "                                                                 \n",
      " dense (Dense)               (None, 128)               262272    \n",
      "                                                                 \n",
      " dropout (Dropout)           (None, 128)               0         \n",
      "                                                                 \n",
      " dense_1 (Dense)             (None, 7)                 903       \n",
      "                                                                 \n",
      "=================================================================\n",
      "Total params: 355847 (1.36 MB)\n",
      "Trainable params: 355847 (1.36 MB)\n",
      "Non-trainable params: 0 (0.00 Byte)\n",
      "_________________________________________________________________\n"
     ]
    }
   ],
   "source": [
    "\n",
    "# === BUILD CNN MODEL ===\n",
    "model = Sequential([\n",
    "    Conv2D(32, (3,3), activation='relu', input_shape=(48, 48, 1)),\n",
    "    MaxPooling2D(2,2),\n",
    "    Conv2D(64, (3,3), activation='relu'),\n",
    "    MaxPooling2D(2,2),\n",
    "    Conv2D(128, (3,3), activation='relu'),\n",
    "    MaxPooling2D(2,2),\n",
    "    Flatten(),\n",
    "    Dense(128, activation='relu'),\n",
    "    Dropout(0.5),\n",
    "    Dense(num_classes, activation='softmax')\n",
    "])\n",
    "\n",
    "model.compile(optimizer='adam', loss='categorical_crossentropy', metrics=['accuracy'])\n",
    "model.summary()\n"
   ]
  },
  {
   "cell_type": "code",
   "execution_count": 5,
   "id": "584e0074",
   "metadata": {},
   "outputs": [
    {
     "name": "stdout",
     "output_type": "stream",
     "text": [
      "Epoch 1/10\n",
      "898/898 [==============================] - 47s 50ms/step - loss: 1.7462 - accuracy: 0.2897 - val_loss: 1.5913 - val_accuracy: 0.3564\n",
      "Epoch 2/10\n",
      "898/898 [==============================] - 45s 50ms/step - loss: 1.5239 - accuracy: 0.4121 - val_loss: 1.3849 - val_accuracy: 0.4752\n",
      "Epoch 3/10\n",
      "898/898 [==============================] - 44s 48ms/step - loss: 1.3912 - accuracy: 0.4656 - val_loss: 1.3171 - val_accuracy: 0.4953\n",
      "Epoch 4/10\n",
      "898/898 [==============================] - 65s 72ms/step - loss: 1.3150 - accuracy: 0.4973 - val_loss: 1.2753 - val_accuracy: 0.5043\n",
      "Epoch 5/10\n",
      "898/898 [==============================] - 88s 97ms/step - loss: 1.2563 - accuracy: 0.5233 - val_loss: 1.2186 - val_accuracy: 0.5297\n",
      "Epoch 6/10\n",
      "898/898 [==============================] - 88s 98ms/step - loss: 1.2060 - accuracy: 0.5431 - val_loss: 1.2231 - val_accuracy: 0.5198\n",
      "Epoch 7/10\n",
      "898/898 [==============================] - 90s 100ms/step - loss: 1.1657 - accuracy: 0.5575 - val_loss: 1.1811 - val_accuracy: 0.5479\n",
      "Epoch 8/10\n",
      "898/898 [==============================] - 91s 102ms/step - loss: 1.1231 - accuracy: 0.5734 - val_loss: 1.1828 - val_accuracy: 0.5499\n",
      "Epoch 9/10\n",
      "898/898 [==============================] - 91s 102ms/step - loss: 1.0906 - accuracy: 0.5891 - val_loss: 1.1568 - val_accuracy: 0.5595\n",
      "Epoch 10/10\n",
      "898/898 [==============================] - 98s 110ms/step - loss: 1.0497 - accuracy: 0.5988 - val_loss: 1.1676 - val_accuracy: 0.5616\n"
     ]
    }
   ],
   "source": [
    "\n",
    "# === TRAIN ===\n",
    "history = model.fit(\n",
    "    train_generator,\n",
    "    epochs=epochs,\n",
    "    validation_data=test_generator\n",
    ")\n"
   ]
  },
  {
   "cell_type": "code",
   "execution_count": null,
   "id": "79f41160",
   "metadata": {},
   "outputs": [],
   "source": [
    "\n",
    "# === SAVE MODEL ===\n",
    "os.makedirs(\"models\", exist_ok=True)\n",
    "model_json = model.to_json()\n",
    "with open(\"models/custom_model.json\", \"w\") as json_file:\n",
    "    json_file.write(model_json)\n",
    "model.save_weights(\"models/custom_model_weights.h5\")\n",
    "print(\"✅ Model saved as JSON + weights\")\n"
   ]
  },
  {
   "cell_type": "code",
   "execution_count": null,
   "id": "8a528f04",
   "metadata": {},
   "outputs": [],
   "source": [
    "\n",
    "# === PLOTS ===\n",
    "plt.figure(figsize=(12,5))\n",
    "plt.subplot(1,2,1)\n",
    "plt.plot(history.history['accuracy'], label='Train Acc')\n",
    "plt.plot(history.history['val_accuracy'], label='Val Acc')\n",
    "plt.legend()\n",
    "plt.title('Accuracy')\n",
    "\n",
    "plt.subplot(1,2,2)\n",
    "plt.plot(history.history['loss'], label='Train Loss')\n",
    "plt.plot(history.history['val_loss'], label='Val Loss')\n",
    "plt.legend()\n",
    "plt.title('Loss')\n",
    "plt.show()\n"
   ]
  },
  {
   "cell_type": "code",
   "execution_count": null,
   "id": "cb8a1037",
   "metadata": {},
   "outputs": [],
   "source": [
    "\n",
    "# === EVALUATION ===\n",
    "test_generator.reset()\n",
    "Y_pred = model.predict(test_generator)\n",
    "y_pred = np.argmax(Y_pred, axis=1)\n",
    "y_true = test_generator.classes\n",
    "print(\"Classification Report:\")\n",
    "print(classification_report(y_true, y_pred, target_names=class_labels))\n"
   ]
  },
  {
   "cell_type": "code",
   "execution_count": null,
   "id": "e9d29dd1",
   "metadata": {},
   "outputs": [],
   "source": [
    "\n",
    "# === PREDICT ON NEW IMAGES (OPTIONAL) ===\n",
    "image_folder = \"images\"\n",
    "from keras.preprocessing.image import img_to_array\n",
    "\n",
    "model = model_from_json(open(\"models/custom_model.json\").read())\n",
    "model.load_weights(\"models/custom_model_weights.h5\")\n",
    "print(\"✅ Custom model loaded.\")\n",
    "\n",
    "for img_file in os.listdir(image_folder)[:5]:\n",
    "    path = os.path.join(image_folder, img_file)\n",
    "    img = cv2.imread(path)\n",
    "    gray = cv2.cvtColor(img, cv2.COLOR_BGR2GRAY)\n",
    "    resized = cv2.resize(gray, image_size)\n",
    "    face_img = resized.astype(\"float32\") / 255.0\n",
    "    face_img = img_to_array(face_img)\n",
    "    face_img = np.expand_dims(face_img, axis=0)\n",
    "\n",
    "    preds = model.predict(face_img)[0]\n",
    "    label = class_labels[preds.argmax()]\n",
    "    confidence = np.max(preds)\n",
    "\n",
    "    print(f\"{img_file} → {label} ({confidence*100:.2f}%)\")\n",
    "    plt.imshow(cv2.cvtColor(img, cv2.COLOR_BGR2RGB))\n",
    "    plt.title(f\"{label} ({confidence*100:.2f}%)\")\n",
    "    plt.axis('off')\n",
    "    plt.show()\n"
   ]
  }
 ],
 "metadata": {
  "kernelspec": {
   "display_name": "Python 3 (ipykernel)",
   "language": "python",
   "name": "python3"
  },
  "language_info": {
   "codemirror_mode": {
    "name": "ipython",
    "version": 3
   },
   "file_extension": ".py",
   "mimetype": "text/x-python",
   "name": "python",
   "nbconvert_exporter": "python",
   "pygments_lexer": "ipython3",
   "version": "3.8.10"
  }
 },
 "nbformat": 4,
 "nbformat_minor": 5
}
