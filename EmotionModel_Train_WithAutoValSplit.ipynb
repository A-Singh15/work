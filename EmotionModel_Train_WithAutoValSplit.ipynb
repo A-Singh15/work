{
 "cells": [
  {
   "cell_type": "markdown",
   "id": "1f813f45",
   "metadata": {},
   "source": [
    "# 🧠 Train-Your-Own Emotion Detection Model (Auto Val Split)\n",
    "This notebook defines and trains a CNN model from scratch, splitting the training set into training and validation."
   ]
  },
  {
   "cell_type": "code",
   "execution_count": 1,
   "id": "1d9458ce",
   "metadata": {},
   "outputs": [],
   "source": [
    "\n",
    "import os\n",
    "import cv2\n",
    "import numpy as np\n",
    "import matplotlib.pyplot as plt\n",
    "from sklearn.metrics import classification_report\n",
    "from tensorflow.keras.preprocessing.image import ImageDataGenerator\n",
    "from tensorflow.keras.models import Model\n",
    "from tensorflow.keras.layers import Input, Conv2D, MaxPooling2D, Dropout, BatchNormalization, LeakyReLU, GlobalAveragePooling2D, Dense\n",
    "from tensorflow.keras.callbacks import EarlyStopping, ModelCheckpoint, ReduceLROnPlateau\n"
   ]
  },
  {
   "cell_type": "code",
   "execution_count": 2,
   "id": "2eb3ad19",
   "metadata": {},
   "outputs": [],
   "source": [
    "\n",
    "# === CONFIGURATION ===\n",
    "image_size = (96, 96)\n",
    "batch_size = 32\n",
    "epochs = 25\n",
    "train_dir = \"dataset/train\"\n",
    "model_dir = \"models\"\n",
    "os.makedirs(model_dir, exist_ok=True)\n"
   ]
  },
  {
   "cell_type": "code",
   "execution_count": 3,
   "id": "dd2342bf",
   "metadata": {},
   "outputs": [
    {
     "name": "stdout",
     "output_type": "stream",
     "text": [
      "Found 24406 images belonging to 7 classes.\n",
      "Found 4303 images belonging to 7 classes.\n"
     ]
    }
   ],
   "source": [
    "\n",
    "# === AUTO SPLIT TRAIN + VAL FROM TRAIN_DIR ===\n",
    "datagen = ImageDataGenerator(\n",
    "    rescale=1./255,\n",
    "    validation_split=0.15,\n",
    "    rotation_range=30,\n",
    "    width_shift_range=0.2,\n",
    "    height_shift_range=0.2,\n",
    "    shear_range=0.2,\n",
    "    zoom_range=0.2,\n",
    "    horizontal_flip=True\n",
    ")\n",
    "\n",
    "train_data = datagen.flow_from_directory(\n",
    "    train_dir,\n",
    "    target_size=image_size,\n",
    "    color_mode=\"grayscale\",\n",
    "    batch_size=batch_size,\n",
    "    class_mode=\"categorical\",\n",
    "    subset='training',\n",
    "    shuffle=True\n",
    ")\n",
    "\n",
    "val_data = datagen.flow_from_directory(\n",
    "    train_dir,\n",
    "    target_size=image_size,\n",
    "    color_mode=\"grayscale\",\n",
    "    batch_size=batch_size,\n",
    "    class_mode=\"categorical\",\n",
    "    subset='validation',\n",
    "    shuffle=True\n",
    ")\n",
    "\n",
    "class_labels = list(train_data.class_indices.keys())\n",
    "num_classes = len(class_labels)\n"
   ]
  },
  {
   "cell_type": "code",
   "execution_count": 4,
   "id": "ed5467f7",
   "metadata": {},
   "outputs": [
    {
     "name": "stdout",
     "output_type": "stream",
     "text": [
      "Model: \"model\"\n",
      "_________________________________________________________________\n",
      " Layer (type)                Output Shape              Param #   \n",
      "=================================================================\n",
      " input_1 (InputLayer)        [(None, 96, 96, 1)]       0         \n",
      "                                                                 \n",
      " conv2d (Conv2D)             (None, 96, 96, 64)        640       \n",
      "                                                                 \n",
      " batch_normalization (Batch  (None, 96, 96, 64)        256       \n",
      " Normalization)                                                  \n",
      "                                                                 \n",
      " leaky_re_lu (LeakyReLU)     (None, 96, 96, 64)        0         \n",
      "                                                                 \n",
      " max_pooling2d (MaxPooling2  (None, 48, 48, 64)        0         \n",
      " D)                                                              \n",
      "                                                                 \n",
      " conv2d_1 (Conv2D)           (None, 48, 48, 128)       73856     \n",
      "                                                                 \n",
      " batch_normalization_1 (Bat  (None, 48, 48, 128)       512       \n",
      " chNormalization)                                                \n",
      "                                                                 \n",
      " leaky_re_lu_1 (LeakyReLU)   (None, 48, 48, 128)       0         \n",
      "                                                                 \n",
      " max_pooling2d_1 (MaxPoolin  (None, 24, 24, 128)       0         \n",
      " g2D)                                                            \n",
      "                                                                 \n",
      " conv2d_2 (Conv2D)           (None, 24, 24, 256)       295168    \n",
      "                                                                 \n",
      " batch_normalization_2 (Bat  (None, 24, 24, 256)       1024      \n",
      " chNormalization)                                                \n",
      "                                                                 \n",
      " leaky_re_lu_2 (LeakyReLU)   (None, 24, 24, 256)       0         \n",
      "                                                                 \n",
      " max_pooling2d_2 (MaxPoolin  (None, 12, 12, 256)       0         \n",
      " g2D)                                                            \n",
      "                                                                 \n",
      " global_average_pooling2d (  (None, 256)               0         \n",
      " GlobalAveragePooling2D)                                         \n",
      "                                                                 \n",
      " dropout (Dropout)           (None, 256)               0         \n",
      "                                                                 \n",
      " dense (Dense)               (None, 7)                 1799      \n",
      "                                                                 \n",
      "=================================================================\n",
      "Total params: 373255 (1.42 MB)\n",
      "Trainable params: 372359 (1.42 MB)\n",
      "Non-trainable params: 896 (3.50 KB)\n",
      "_________________________________________________________________\n"
     ]
    }
   ],
   "source": [
    "\n",
    "def build_custom_emotion_model(input_shape, num_classes):\n",
    "    inputs = Input(shape=input_shape)\n",
    "\n",
    "    x = Conv2D(64, (3, 3), padding='same', kernel_initializer='he_normal')(inputs)\n",
    "    x = BatchNormalization()(x)\n",
    "    x = LeakyReLU()(x)\n",
    "    x = MaxPooling2D(pool_size=(2, 2))(x)\n",
    "\n",
    "    x = Conv2D(128, (3, 3), padding='same', kernel_initializer='he_normal')(x)\n",
    "    x = BatchNormalization()(x)\n",
    "    x = LeakyReLU()(x)\n",
    "    x = MaxPooling2D(pool_size=(2, 2))(x)\n",
    "\n",
    "    x = Conv2D(256, (3, 3), padding='same', kernel_initializer='he_normal')(x)\n",
    "    x = BatchNormalization()(x)\n",
    "    x = LeakyReLU()(x)\n",
    "    x = MaxPooling2D(pool_size=(2, 2))(x)\n",
    "\n",
    "    x = GlobalAveragePooling2D()(x)\n",
    "    x = Dropout(0.5)(x)\n",
    "    outputs = Dense(num_classes, activation='softmax')(x)\n",
    "\n",
    "    return Model(inputs, outputs)\n",
    "\n",
    "model = build_custom_emotion_model((96, 96, 1), num_classes)\n",
    "model.compile(optimizer='adam', loss='categorical_crossentropy', metrics=['accuracy'])\n",
    "model.summary()\n"
   ]
  },
  {
   "cell_type": "code",
   "execution_count": null,
   "id": "c64294d7",
   "metadata": {},
   "outputs": [
    {
     "name": "stdout",
     "output_type": "stream",
     "text": [
      "Epoch 1/25\n",
      "130/763 [====>.........................] - ETA: 6:56 - loss: 2.0476 - accuracy: 0.2065"
     ]
    }
   ],
   "source": [
    "\n",
    "# === TRAIN MODEL ===\n",
    "early_stop = EarlyStopping(patience=5, restore_best_weights=True)\n",
    "reduce_lr = ReduceLROnPlateau(monitor='val_loss', factor=0.2, patience=3, min_lr=1e-6, verbose=1)\n",
    "checkpoint = ModelCheckpoint(os.path.join(model_dir, 'best_weights.h5'), save_best_only=True, monitor='val_accuracy', mode='max')\n",
    "\n",
    "history = model.fit(\n",
    "    train_data,\n",
    "    validation_data=val_data,\n",
    "    epochs=epochs,\n",
    "    callbacks=[early_stop, reduce_lr, checkpoint]\n",
    ")\n"
   ]
  },
  {
   "cell_type": "code",
   "execution_count": null,
   "id": "51f1ffcd",
   "metadata": {},
   "outputs": [],
   "source": [
    "\n",
    "# === SAVE MODEL ===\n",
    "model_json = model.to_json()\n",
    "with open(os.path.join(model_dir, \"emotion_model.json\"), \"w\") as json_file:\n",
    "    json_file.write(model_json)\n",
    "model.save_weights(os.path.join(model_dir, \"emotion_model_weights.h5\"))\n",
    "model.save(\"saved_model\")\n",
    "print(\"✅ Model saved (JSON, weights, SavedModel)\")\n"
   ]
  },
  {
   "cell_type": "code",
   "execution_count": null,
   "id": "9284e93b",
   "metadata": {},
   "outputs": [],
   "source": [
    "\n",
    "# === EVALUATE MODEL ===\n",
    "val_data.reset()\n",
    "Y_pred = model.predict(val_data)\n",
    "y_pred = np.argmax(Y_pred, axis=1)\n",
    "y_true = val_data.classes\n",
    "\n",
    "print(\"Classification Report:\")\n",
    "print(classification_report(y_true, y_pred, target_names=class_labels))\n"
   ]
  },
  {
   "cell_type": "code",
   "execution_count": null,
   "id": "e783c66c",
   "metadata": {},
   "outputs": [],
   "source": [
    "\n",
    "# === INFER IMAGES LOCALLY ===\n",
    "def predict_emotions_from_images(folder):\n",
    "    for img_file in os.listdir(folder):\n",
    "        if not img_file.lower().endswith((\".jpg\", \".png\", \".jpeg\")):\n",
    "            continue\n",
    "\n",
    "        path = os.path.join(folder, img_file)\n",
    "        img = cv2.imread(path)\n",
    "        gray = cv2.cvtColor(img, cv2.COLOR_BGR2GRAY)\n",
    "        resized = cv2.resize(gray, image_size)\n",
    "\n",
    "        face_img = resized.astype(\"float32\") / 255.0\n",
    "        face_img = np.expand_dims(face_img.reshape(image_size[0], image_size[1], 1), axis=0)\n",
    "\n",
    "        preds = model.predict(face_img)[0]\n",
    "        label = class_labels[np.argmax(preds)]\n",
    "        confidence = np.max(preds)\n",
    "\n",
    "        print(f\"{img_file} → {label} ({confidence*100:.2f}%)\")\n",
    "        plt.imshow(cv2.cvtColor(img, cv2.COLOR_BGR2RGB))\n",
    "        plt.title(f\"{label} ({confidence*100:.2f}%)\")\n",
    "        plt.axis('off')\n",
    "        plt.show()\n",
    "\n",
    "# Uncomment to test:\n",
    "# predict_emotions_from_images(\"images\")\n"
   ]
  }
 ],
 "metadata": {
  "kernelspec": {
   "display_name": "Python 3 (ipykernel)",
   "language": "python",
   "name": "python3"
  },
  "language_info": {
   "codemirror_mode": {
    "name": "ipython",
    "version": 3
   },
   "file_extension": ".py",
   "mimetype": "text/x-python",
   "name": "python",
   "nbconvert_exporter": "python",
   "pygments_lexer": "ipython3",
   "version": "3.8.10"
  }
 },
 "nbformat": 4,
 "nbformat_minor": 5
}
